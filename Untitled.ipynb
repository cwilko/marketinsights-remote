{
 "cells": [
  {
   "cell_type": "code",
   "execution_count": 24,
   "metadata": {},
   "outputs": [],
   "source": [
    "from paramiko import SSHClient, AutoAddPolicy\n",
    "from scp import SCPClient\n",
    "\n",
    "with SSHClient() as ssh:\n",
    "    ssh.set_missing_host_key_policy(AutoAddPolicy())\n",
    "    ssh.connect(hostname=\"192.168.1.2\", username=\"root\", password=\"poop97\", allow_agent=False, look_for_keys=False)\n",
    "\n",
    "    with SCPClient(ssh.get_transport()) as scp:\n",
    "        scp.put('./mode', '/home/kubernetes/models/', recursive=True)\n"
   ]
  },
  {
   "cell_type": "code",
   "execution_count": 29,
   "metadata": {},
   "outputs": [],
   "source": [
    "from paramiko import SSHClient, AutoAddPolicy\n",
    "from scp import SCPClient\n",
    "\n",
    "with SSHClient() as ssh:\n",
    "    ssh.set_missing_host_key_policy(AutoAddPolicy())\n",
    "    ssh.connect(hostname=\"192.168.1.2\", username=\"root\", password=\"poop97\", allow_agent=False, look_for_keys=False)\n",
    "\n",
    "    with SCPClient(ssh.get_transport()) as scp:\n",
    "        scp.get('/home/kubernetes/marketinsights-model-server-data/models.config', './')\n"
   ]
  },
  {
   "cell_type": "code",
   "execution_count": 30,
   "metadata": {},
   "outputs": [
    {
     "name": "stdout",
     "output_type": "stream",
     "text": [
      "mapping values are not allowed here\n",
      "  in \"models.config\", line 3, column 9\n"
     ]
    }
   ],
   "source": [
    "import yaml\n",
    "\n",
    "with open(\"models.config\", \"r\") as stream:\n",
    "    try:\n",
    "        print(yaml.safe_load(stream))\n",
    "    except yaml.YAMLError as exc:\n",
    "        print(exc)"
   ]
  },
  {
   "cell_type": "code",
   "execution_count": 19,
   "metadata": {},
   "outputs": [],
   "source": [
    "from paramiko import SSHClient, AutoAddPolicy\n",
    "from scp import SCPClient\n",
    "\n",
    "from marketinsights.utils.auth import CredentialsStore\n",
    "\n",
    "class RemoteFS:\n",
    "    \n",
    "    def __init__(self, host, credStore=None, secret=\"scp_cred\"):\n",
    "        self.host = host\n",
    "        if not credStore:\n",
    "            credStore = CredentialsStore()\n",
    "        self.creds = credStore.getSecrets(secret)\n",
    "        \n",
    "    def put(self, sourcePath, targetPath=None, debug=False):\n",
    "        \n",
    "        if not targetPath:\n",
    "            targetPath = self.creds[\"default_targetPath\"]\n",
    "        \n",
    "        if debug:\n",
    "            print(f\"Tansferring {sourcePath} to {targetPath} on remote server, {self.host}\")\n",
    "            \n",
    "        with SSHClient() as ssh:\n",
    "            ssh.set_missing_host_key_policy(AutoAddPolicy())\n",
    "            ssh.connect(hostname=self.host, username=self.creds[\"username\"], password=self.creds[\"password\"], allow_agent=False, look_for_keys=False)\n",
    "\n",
    "            with SCPClient(ssh.get_transport()) as scp:\n",
    "                scp.put(sourcePath, targetPath, recursive=True)\n",
    "                "
   ]
  },
  {
   "cell_type": "code",
   "execution_count": 27,
   "metadata": {},
   "outputs": [
    {
     "name": "stdout",
     "output_type": "stream",
     "text": [
      "Tansferring ./mode to /home/kubernetes/models/ on remote server, 192.168.1.2\n"
     ]
    }
   ],
   "source": [
    "rfs = RemoteFS(host=\"192.168.1.2\")\n",
    "\n",
    "rfs.put(\"./mode\", \"/home/kubernetes/models/\", debug=True)"
   ]
  },
  {
   "cell_type": "code",
   "execution_count": 2,
   "metadata": {},
   "outputs": [],
   "source": [
    "import grpc\n",
    "from google.protobuf import text_format\n",
    "from tensorflow_serving.apis import model_service_pb2_grpc, model_management_pb2\n",
    "from tensorflow_serving.config import model_server_config_pb2\n",
    "\n",
    "\n",
    "def add_model_config(conf_filepath, host, name, base_path, model_platform):\n",
    "    with open(conf_filepath, 'r+') as f:\n",
    "        config_ini = f.read()\n",
    "    channel = grpc.insecure_channel(host)\n",
    "    stub = model_service_pb2_grpc.ModelServiceStub(channel)\n",
    "    request = model_management_pb2.ReloadConfigRequest()\n",
    "    model_server_config = model_server_config_pb2.ModelServerConfig()\n",
    "    config_list = model_server_config_pb2.ModelConfigList()\n",
    "    model_server_config = text_format.Parse(text=config_ini, message=model_server_config)\n",
    "\n",
    "    # Create a config to add to the list of served models\n",
    "    one_config = config_list.config.add()\n",
    "    one_config.name = name\n",
    "    one_config.base_path = base_path\n",
    "    one_config.model_platform = model_platform\n",
    "\n",
    "    model_server_config.model_config_list.MergeFrom(config_list)\n",
    "    request.config.CopyFrom(model_server_config)\n",
    "\n",
    "    response = stub.HandleReloadConfigRequest(request, 10)\n",
    "    if response.status.error_code == 0:\n",
    "        with open(conf_filepath, 'w+') as f:\n",
    "            f.write(request.config.__str__())\n",
    "        print(\"Updated TF Serving conf file\")\n",
    "    else:\n",
    "        print(\"Failed to update model_config_list!\")\n",
    "        print(response.status.error_code)\n",
    "        print(response.status.error_message)"
   ]
  },
  {
   "cell_type": "code",
   "execution_count": null,
   "metadata": {},
   "outputs": [],
   "source": []
  }
 ],
 "metadata": {
  "kernelspec": {
   "display_name": "dev3.9",
   "language": "python",
   "name": "dev3.9"
  },
  "language_info": {
   "codemirror_mode": {
    "name": "ipython",
    "version": 3
   },
   "file_extension": ".py",
   "mimetype": "text/x-python",
   "name": "python",
   "nbconvert_exporter": "python",
   "pygments_lexer": "ipython3",
   "version": "3.9.12"
  }
 },
 "nbformat": 4,
 "nbformat_minor": 2
}
